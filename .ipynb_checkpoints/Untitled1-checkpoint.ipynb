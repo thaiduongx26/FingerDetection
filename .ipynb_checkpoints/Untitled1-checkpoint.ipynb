{
 "cells": [
  {
   "cell_type": "code",
   "execution_count": 3,
   "metadata": {},
   "outputs": [],
   "source": [
    "import os\n",
    "import cv2\n",
    "import pandas as pd\n",
    "import numpy as np"
   ]
  },
  {
   "cell_type": "code",
   "execution_count": null,
   "metadata": {},
   "outputs": [],
   "source": [
    "path = []\n",
    "for i in range(0, 6):\n",
    "    path.append(\"/home/thaiduong/Desktop/FingerCalculator/data/\" + str(i) + \"/output\")\n",
    "# end for\n",
    "\n",
    "images = []\n",
    "\n",
    "def read_data(images, path):\n",
    "    dirs = os.listdir(path)\n",
    "    for img in dirs:\n",
    "        image_name = path + \"/\" + img\n",
    "        image = cv2.imread(image_name, 0)\n",
    "        image = np.reshape(image, 128*128)\n",
    "        images.append(image)\n",
    "    return images\n",
    "# end function read_data\n",
    "\n",
    "for i in path:\n",
    "    read_data(images, i)\n",
    "\n",
    "images = np.asarray(images)\n",
    "print(images.shape)\n",
    "    \n",
    "df = pd.DataFrame(images)\n",
    "df.to_csv(\"datafingers.csv\")\n",
    "\n",
    "print(\"Finish converting !!!\")"
   ]
  },
  {
   "cell_type": "code",
   "execution_count": 2,
   "metadata": {},
   "outputs": [],
   "source": [
    "raw_data = {'first_name': ['Jason', 'Molly', 'Tina', 'Jake', 'Amy'], \n",
    "        'last_name': ['Miller', 'Jacobson', 'Ali', 'Milner', 'Cooze'], \n",
    "        'age': [42, 52, 36, 24, 73], \n",
    "        'preTestScore': [4, 24, 31, 2, 3],\n",
    "        'postTestScore': [25, 94, 57, 62, 70]}\n",
    "df = pd.DataFrame(raw_data, columns = ['first_name', 'last_name', 'age', 'preTestScore', 'postTestScore'])\n",
    "df.to_csv(\"duong.csv\")"
   ]
  },
  {
   "cell_type": "code",
   "execution_count": null,
   "metadata": {},
   "outputs": [],
   "source": []
  }
 ],
 "metadata": {
  "kernelspec": {
   "display_name": "Python 3",
   "language": "python",
   "name": "python3"
  },
  "language_info": {
   "codemirror_mode": {
    "name": "ipython",
    "version": 2
   },
   "file_extension": ".py",
   "mimetype": "text/x-python",
   "name": "python",
   "nbconvert_exporter": "python",
   "pygments_lexer": "ipython2",
   "version": "2.7.15rc1"
  }
 },
 "nbformat": 4,
 "nbformat_minor": 2
}
