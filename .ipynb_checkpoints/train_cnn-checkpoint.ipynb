{
 "cells": [
  {
   "cell_type": "code",
   "execution_count": 2,
   "metadata": {},
   "outputs": [],
   "source": [
    "import tensorflow as tf\n",
    "import numpy as np\n",
    "import cv2\n",
    "import os\n",
    "from sklearn.model_selection import train_test_split"
   ]
  },
  {
   "cell_type": "code",
   "execution_count": null,
   "metadata": {},
   "outputs": [],
   "source": [
    "n_classes = 6\n",
    "path = []\n",
    "\n",
    "for i in range(0, 6):\n",
    "    path.append((str(i), \"/home/thaiduong/Desktop/FingerCalculator/data/\" + str(i) + \"/output\"))\n",
    "# end for\n",
    "\n",
    "def read_data(path, label):\n",
    "    images = []\n",
    "    labels = []\n",
    "    dirs = os.listdir(path[1])\n",
    "    for img in dirs:\n",
    "        image_name = path[1] + \"/\" + img\n",
    "        image = cv2.imread(image_name, 0)\n",
    "        image = np.reshape(image, 128*128)\n",
    "        images.append(image)\n",
    "        labels.append(label)\n",
    "    \n",
    "    return images, labels\n",
    "# end function read_data\n",
    "\n",
    "images = []\n",
    "labels = []\n",
    "\n",
    "for i in range(0, 6):\n",
    "    imgs, lbls = read_data(path[i], i)\n",
    "    for im in range(0, len(imgs)):\n",
    "        images.append(imgs[im])\n",
    "        labels.append(lbls[im])\n",
    "# end for \n",
    "\n",
    "X_train, X_test, y_train, y_test = train_test_split(images, labels)\n",
    "\n",
    "X_train = np.asarray(X_train)\n",
    "y_train = np.asarray(y_train)\n",
    "\n",
    "print(X_train.shape)"
   ]
  },
  {
   "cell_type": "code",
   "execution_count": 19,
   "metadata": {},
   "outputs": [],
   "source": [
    "#parameters\n",
    "learning_rate = 0.001\n",
    "batch_size = 20\n",
    "display_step = 10\n",
    "num_step = 500\n",
    "\n",
    "#network parameters\n",
    "n_input = 128*128\n",
    "num_classes = 6\n",
    "x = tf.placeholder(tf.float32, [None, n_input], name=\"x\")\n",
    "y = tf.placeholder(tf.int32, [None], name=\"y\")"
   ]
  },
  {
   "cell_type": "code",
   "execution_count": 1,
   "metadata": {},
   "outputs": [],
   "source": [
    "def random_batch(X_train, y_train, batch_size):\n",
    "    rnd_indices = np.random.randint(0, len(X_train), batch_size)\n",
    "    print(rnd_indices)\n",
    "    x_batch = X_train[rnd_indices]\n",
    "    y_batch = y_train[rnd_indices]\n",
    "    return x_batch, y_batch\n",
    "\n",
    "def conv_net(x):\n",
    "    x = tf.reshape(x, shape=[-1, 128, 128, 1])\n",
    "    conv1 = tf.layers.conv2d(x, 8, 5, activation=tf.nn.relu, padding=\"SAME\")\n",
    "    conv1 = tf.layers.max_pooling2d(conv1, 2, 2, padding=\"SAME\")\n",
    "    conv2 = tf.layers.conv2d(x, 16, 5, activation=tf.nn.relu, padding=\"SAME\")\n",
    "    conv2 = tf.layers.max_pooling2d(conv2, 2, 2, padding=\"SAME\")\n",
    "    \n",
    "    fc1 = tf.contrib.layers.flatten(conv2)\n",
    "    fc1 = tf.layers.dense(fc1, 512, activation=tf.nn.relu)\n",
    "    out = tf.layers.dense(fc1, num_classes, name=\"ouput\")\n",
    "    \n",
    "    return out"
   ]
  },
  {
   "cell_type": "code",
   "execution_count": null,
   "metadata": {},
   "outputs": [],
   "source": [
    "saver = tf.train.Saver()\n",
    "\n",
    "sess = tf.Session()\n",
    "\n",
    "sess.run(init)\n",
    "for step in range(1, num_steps+1):\n",
    "    batch_x, batch_y = random_batch(X_train, y_train, batch_size)\n",
    "    sess.run(training_op, feed_dict={x: batch_x, y:batch_y})\n",
    "    if step % display_step == 0 or step == 1:\n",
    "        acc = sess.run(accuracy, feed_dict={x:X_train, y:y_train})\n",
    "        print('step:',step,' , Accuracy:',acc)\n",
    "        \n",
    "print(\"Optimization finished!!!!\")"
   ]
  }
 ],
 "metadata": {
  "kernelspec": {
   "display_name": "Python 3",
   "language": "python",
   "name": "python3"
  },
  "language_info": {
   "codemirror_mode": {
    "name": "ipython",
    "version": 2
   },
   "file_extension": ".py",
   "mimetype": "text/x-python",
   "name": "python",
   "nbconvert_exporter": "python",
   "pygments_lexer": "ipython2",
   "version": "2.7.15rc1"
  }
 },
 "nbformat": 4,
 "nbformat_minor": 2
}
